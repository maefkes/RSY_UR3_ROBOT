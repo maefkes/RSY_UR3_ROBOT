{
 "cells": [
  {
   "cell_type": "markdown",
   "id": "f253b054",
   "metadata": {},
   "source": [
    "# Würfel Orientierung ermitteln"
   ]
  },
  {
   "cell_type": "code",
   "execution_count": 1,
   "id": "2c47cb04",
   "metadata": {},
   "outputs": [],
   "source": [
    "import numpy as np\n",
    "import cv2 as cv\n",
    "from PIL import Image\n",
    "import matplotlib.pyplot as plt"
   ]
  },
  {
   "cell_type": "markdown",
   "id": "f126e10b",
   "metadata": {},
   "source": [
    "## Definition des KSYS\n",
    "- x: blau\n",
    "- y: rot\n",
    "- z: weiß\n",
    "\n",
    "## Testszenario\n",
    "Es wird ein Testszenario definiert:\n",
    "1. Der Würfel liegt mit der gelben Seite nach oben auf dem Tisch\n",
    "2. Der Würfel wird gegriffen und in die Kamera gehalten, sodass die weiße Seite sichtbar ist\n",
    "3. Der Würfel wird um 90° gedreht, sodass die blaue Seite sichtbar ist\n",
    "4. Der Würfel wird um 180° gedreht, sodass die gegenüberliegende grüne Seite sichtbar ist\n",
    "\n",
    "Theoretisch reicht bereits die erste 90° Drehung, um das KSys zu bestimmen."
   ]
  },
  {
   "cell_type": "markdown",
   "id": "cac7ef2a",
   "metadata": {},
   "source": [
    "### Szenario 1"
   ]
  },
  {
   "cell_type": "code",
   "execution_count": 2,
   "id": "7751d6a7",
   "metadata": {},
   "outputs": [],
   "source": [
    "image1 = {\n",
    "    \"parentcolor\": \"W\",\n",
    "    \"matrix\": \"OBORWORWR\"\n",
    "}\n",
    "\n",
    "# Erste rotation, um das globale KSYS\n",
    "rotation1 = {\n",
    "    \"axis\": \"x\",\n",
    "    \"steps\": 1,\n",
    "}\n",
    "\n",
    "image2 = {\n",
    "    \"parentcolor\": \"B\",\n",
    "    \"matrix\": \"YWWGBYBYW\"\n",
    "}\n",
    "\n",
    "# Zweite rotation, um das globale KSYS\n",
    "rotation2 = {\n",
    "    \"axis\": \"y\",\n",
    "    \"steps\": 2,\n",
    "}\n",
    "\n",
    "image3 = {\n",
    "    \"parentcolor\": \"G\",\n",
    "    \"matrix\": \"BRRBGGYGG\"\n",
    "}"
   ]
  },
  {
   "cell_type": "markdown",
   "id": "c3d0d12b",
   "metadata": {},
   "source": [
    "### Szenario 2"
   ]
  },
  {
   "cell_type": "code",
   "execution_count": 3,
   "id": "d4fb25a4",
   "metadata": {},
   "outputs": [],
   "source": [
    "image1_2 = {\n",
    "    \"parentcolor\": \"O\",\n",
    "    \"matrix\": \"GWBGOYROW\"\n",
    "}\n",
    "\n",
    "# Erste rotation, um das globale KSYS\n",
    "rotation1_2 = {\n",
    "    \"axis\": \"x\",\n",
    "    \"steps\": 1,\n",
    "}\n",
    "\n",
    "image2_2 = {\n",
    "    \"parentcolor\": \"G\",\n",
    "    \"matrix\": \"YBBGGRGGR\"\n",
    "}\n",
    "\n",
    "# Zweite rotation, um das globale KSYS\n",
    "rotation2_2 = {\n",
    "    \"axis\": \"y\",\n",
    "    \"steps\": 2,\n",
    "}\n",
    "\n",
    "image3_2 = {\n",
    "    \"parentcolor\": \"B\",\n",
    "    \"matrix\": \"WYWWBYYGB\"\n",
    "}"
   ]
  },
  {
   "cell_type": "markdown",
   "id": "0cf5aa00",
   "metadata": {},
   "source": [
    "### Lösung\n",
    "gilt für beide Szenarien"
   ]
  },
  {
   "cell_type": "code",
   "execution_count": 4,
   "id": "ea5ee227",
   "metadata": {},
   "outputs": [],
   "source": [
    "solution = \"OORBWWORRGWBGOYROWYBBGGRGGRWOYWRRYBBBGYYBWWYWORGYYOGBO\""
   ]
  },
  {
   "cell_type": "markdown",
   "id": "718ebb72",
   "metadata": {},
   "source": [
    "## Version 1\n",
    "Aktuelle Orientierung des Würfels ermitteln"
   ]
  },
  {
   "cell_type": "code",
   "execution_count": 5,
   "id": "172f4630",
   "metadata": {},
   "outputs": [],
   "source": [
    "def get_axis_by_facecolor(image: dict):\n",
    "    \"\"\"Ordnet der Seite eine Achse zu\"\"\"\n",
    "    if image[\"parentcolor\"] == \"W\":\n",
    "        return \"z\"\n",
    "    elif image[\"parentcolor\"] == \"Y\":\n",
    "        return \"-z\"\n",
    "    elif image[\"parentcolor\"] == \"R\":\n",
    "        return \"x\"\n",
    "    elif image[\"parentcolor\"] == \"O\":\n",
    "        return \"-x\"\n",
    "    elif image[\"parentcolor\"] == \"B\":\n",
    "        return \"y\"\n",
    "    elif image[\"parentcolor\"] == \"G\":\n",
    "        return \"-y\"\n",
    "    else:\n",
    "        raise ValueError(\"Fehler in 'detect_axis_by_facecolor': Es wurde keine gültige Parentcolor erkannt\")\n",
    "    \n",
    "def get_cube_orientation(image1: dict, image2: dict, rotation:dict):\n",
    "    \"\"\"Ermittelt die Gesamtorientierung aus den ersten zwei Bildern.\n",
    "    ACHTUNG: Es wird immer angenommen, dass die erste Rotation um die globale x-Achse gemacht wurde\"\"\"\n",
    "\n",
    "    if image1[\"axis\"] == \"z\": # weiß links\n",
    "        if image2[\"axis\"] == \"x\": # rot oben\n",
    "            x = [0,0,1] # x zeigt in globale z-Richtung\n",
    "            y = [-1,0,0] # y zeigt in globale -x-Richtung\n",
    "            z = [0,-1,0] # z zeigt in globale -y-Richtung\n",
    "        elif image2[\"axis\"] == \"-x\": # orange oben\n",
    "            x = [0,0,1] # x zeigt in globale -z-Richtung\n",
    "            y = [1,0,0] # y zeigt in globale x-Richtung\n",
    "            z = [0,-1,0] # z zeigt in globale -y-Richtung\n",
    "        elif image2[\"axis\"] == \"y\": # blau oben\n",
    "            x = [1,0,0] # x zeigt in globale x-Richtung\n",
    "            y = [0,0,1] # y zeigt in globale z-Richtung\n",
    "            z = [0,-1,0] # z zeigt in globale -y-Richtung\n",
    "        elif image2[\"axis\"] == \"-y\": # grün oben\n",
    "            x = [-1,0,0] # x zeigt in globale -x-Richtung\n",
    "            y = [0,0,-1] # y zeigt in globale -z-Richtung\n",
    "            z = [0,-1,0] # z zeigt in globale -y-Richtung\n",
    "\n",
    "    elif image1[\"axis\"] == \"-z\": # gelb links\n",
    "        if image2[\"axis\"] == \"x\": # rot oben\n",
    "            x = [0,0,1] # x zeigt in globale z-Richtung\n",
    "            y = [1,0,0] # y zeigt in globale x-Richtung\n",
    "            z = [0,1,0] # z zeigt in globale y-Richtung\n",
    "        elif image2[\"axis\"] == \"-x\": # orange oben\n",
    "            x = [0,0,-1] # x zeigt in globale -z-Richtung\n",
    "            y = [-1,0,0] # y zeigt in globale -x-Richtung\n",
    "            z = [0,1,0] # z zeigt in globale y-Richtung\n",
    "        elif image2[\"axis\"] == \"y\": # blau oben\n",
    "            x = [-1,0,0] # x zeigt in globale -x-Richtung\n",
    "            y = [0,0,1] # y zeigt in globale z-Richtung\n",
    "            z = [0,1,0] # z zeigt in globale y-Richtung\n",
    "        elif image2[\"axis\"] == \"-y\": # grün oben\n",
    "            x = [1,0,0] # x zeigt in globale x-Richtung\n",
    "            y = [0,0,-1] # y zeigt in globale -z-Richtung\n",
    "            z = [0,1,0] # z zeigt in globale y-Richtung\n",
    "\n",
    "    elif image1[\"axis\"] == \"x\": # rot links\n",
    "        if image2[\"axis\"] == \"z\": # weiß oben\n",
    "            x = [0,-1,0] # x zeigt in globale -y-Richtung\n",
    "            y = [1,0,0] # y zeigt in globale x-Richtung\n",
    "            z = [0,0,1] # z zeigt in globale z-Richtung\n",
    "        elif image2[\"axis\"] == \"-z\": # gelb oben\n",
    "            x = [0,-1,0] # x zeigt in globale -y-Richtung\n",
    "            y = [-1,0,0] # y zeigt in globale -x-Richtung\n",
    "            z = [0,0,-1] # z zeigt in globale -y-Richtung\n",
    "        elif image2[\"axis\"] == \"y\": # blau oben\n",
    "            x = [0,-1,0] # x zeigt in globale -y-Richtung\n",
    "            y = [0,0,1] # y zeigt in globale z-Richtung\n",
    "            z = [0,-1,0] # z zeigt in globale -y-Richtung\n",
    "        elif image2[\"axis\"] == \"-y\": # grün oben\n",
    "            x = [0,-1,0] # x zeigt in globale -y-Richtung\n",
    "            y = [0,0,-1] # y zeigt in globale -z-Richtung\n",
    "            z = [0,1,0] # z zeigt in globale y-Richtung\n",
    "\n",
    "    elif image1[\"axis\"] == \"-x\": # orange links\n",
    "        if image2[\"axis\"] == \"z\": # weiß oben\n",
    "            x = [0,1,0] # x zeigt in globale y-Richtung\n",
    "            y = [-1,0,0] # y zeigt in globale -x-Richtung\n",
    "            z = [0,0,1] # z zeigt in globale z-Richtung\n",
    "        elif image2[\"axis\"] == \"-z\": # gelb oben\n",
    "            x = [0,1,0] # x zeigt in globale y-Richtung\n",
    "            y = [1,0,0] # y zeigt in globale x-Richtung\n",
    "            z = [0,0,-1] # z zeigt in globale -z-Richtung\n",
    "        elif image2[\"axis\"] == \"y\": # blau oben\n",
    "            x = [0,1,0] # x zeigt in globale y-Richtung\n",
    "            y = [0,0,1] # y zeigt in globale z-Richtung\n",
    "            z = [0,1,0] # z zeigt in globale y-Richtung\n",
    "        elif image2[\"axis\"] == \"-y\": # grün oben\n",
    "            x = [0,1,0] # x zeigt in globale y-Richtung\n",
    "            y = [0,0,-1] # y zeigt in globale -z-Richtung\n",
    "            z = [0,-1,0] # z zeigt in globale -y-Richtung\n",
    "    \n",
    "    elif image1[\"axis\"] == \"y\": # blau links\n",
    "        if image2[\"axis\"] == \"z\": # weiß oben\n",
    "            x = [-1,0,0] # x zeigt in globale x-Richtung\n",
    "            y = [0,-1,0] # y zeigt in globale -y-Richtung\n",
    "            z = [0,0,1] # z zeigt in globale z-Richtung\n",
    "        elif image2[\"axis\"] == \"-z\": # gelb oben\n",
    "            x = [1,0,0] # x zeigt in globale x-Richtung\n",
    "            y = [0,-1,0] # y zeigt in globale -y-Richtung\n",
    "            z = [0,0,-1] # z zeigt in globale -z-Richtung\n",
    "        elif image2[\"axis\"] == \"x\": # rot oben\n",
    "            x = [0,0,1] # x zeigt in globale z-Richtung\n",
    "            y = [0,-1,0] # y zeigt in globale -y-Richtung\n",
    "            z = [1,0,0] # z zeigt in globale x-Richtung\n",
    "        elif image2[\"axis\"] == \"-x\": # orange oben\n",
    "            x = [0,0,-1] # x zeigt in globale -z-Richtung\n",
    "            y = [0,-1,0] # y zeigt in globale -y-Richtung\n",
    "            z = [-1,0,0] # z zeigt in globale -y-Richtung\n",
    "\n",
    "    elif image1[\"axis\"] == \"-y\": # grün links\n",
    "        if image2[\"axis\"] == \"x\": # rot oben\n",
    "            x = [0,0,1] # x zeigt in globale z-Richtung\n",
    "            y = [0,1,0] # y zeigt in globale y-Richtung\n",
    "            z = [-1,0,0] # z zeigt in globale -x-Richtung\n",
    "        elif image2[\"axis\"] == \"-x\": # orange oben\n",
    "            x = [0,0,-1] # x zeigt in globale -z-Richtung\n",
    "            y = [0,1,0] # y zeigt in globale y-Richtung\n",
    "            z = [1,0,0] # z zeigt in globale x-Richtung\n",
    "        elif image2[\"axis\"] == \"z\": # weiß oben\n",
    "            x = [1,0,0] # x zeigt in globale x-Richtung\n",
    "            y = [0,1,0] # y zeigt in globale y-Richtung\n",
    "            z = [0,0,1] # z zeigt in globale z-Richtung\n",
    "        elif image2[\"axis\"] == \"-z\": # grün oben\n",
    "            x = [-1,0,0] # x zeigt in globale -x-Richtung\n",
    "            y = [0,1,0] # y zeigt in globale y-Richtung\n",
    "            z = [0,0,-1] # z zeigt in globale -y-Richtung\n",
    "    \n",
    "    return (x,y,z)"
   ]
  },
  {
   "cell_type": "code",
   "execution_count": 6,
   "id": "d0ed2602",
   "metadata": {},
   "outputs": [
    {
     "name": "stdout",
     "output_type": "stream",
     "text": [
      "x:  [1, 0, 0]\n",
      "y:  [0, 0, 1]\n",
      "z:  [0, -1, 0]\n"
     ]
    }
   ],
   "source": [
    "image1[\"axis\"] = get_axis_by_facecolor(image1)\n",
    "image2[\"axis\"] = get_axis_by_facecolor(image2)\n",
    "\n",
    "ksys = get_cube_orientation(image1, image2, rotation1)\n",
    "print(\"x: \", ksys[0])\n",
    "print(\"y: \", ksys[1])\n",
    "print(\"z: \", ksys[2])"
   ]
  },
  {
   "cell_type": "markdown",
   "id": "f87ff6d9",
   "metadata": {},
   "source": [
    "Als erster Anlauf schon ganz gut, allerdings sind die Rotationen hart gecoded, die Funktion gilt also aktuell nur für den Fall, dass die erste Rotation um +90° in x-Richtung war. Das muss noch etwas flexibler werden..."
   ]
  },
  {
   "cell_type": "markdown",
   "id": "072b6bb1",
   "metadata": {},
   "source": [
    "## Version 2\n",
    "Aktuelle Orientierung des Würfels für variable rotationen ermitteln"
   ]
  },
  {
   "cell_type": "code",
   "execution_count": 7,
   "id": "0d6dc314",
   "metadata": {},
   "outputs": [],
   "source": [
    "FACE_AXIS = {\n",
    "    \"R\": \"y\", \"O\": \"-y\",\n",
    "    \"W\": \"z\", \"Y\": \"-z\",\n",
    "    \"G\": \"x\", \"B\": \"-x\",\n",
    "}\n",
    "\n",
    "GLOBAL_KSYS = {\n",
    "    \"x\": np.array([1, 0, 0]),\n",
    "    \"y\": np.array([0, 1, 0]),\n",
    "    \"z\": np.array([0, 0, 1]),\n",
    "}\n",
    "\n",
    "\n",
    "def get_rotation_matrix(axis:str, steps:int)->np.ndarray:\n",
    "    \"\"\"generiert die Rotationsmatrix aus 90° Schritten um die gegebene Achse\"\"\"\n",
    "    if axis[0] == \"-\":\n",
    "        steps *= -1\n",
    "        axis = axis[1]\n",
    "\n",
    "    angle = steps * (np.pi / 2)\n",
    "    c, s = np.cos(angle), np.sin(angle)\n",
    "    if axis == \"x\":\n",
    "        return np.array([[1,0,0],[0,c,-s],[0,s,c]])\n",
    "    if axis == \"y\":\n",
    "        return np.array([[c,0,s],[0,1,0],[-s,0,c]])\n",
    "    if axis == \"z\":\n",
    "        return np.array([[c,-s,0],[s,c,0],[0,0,1]])\n",
    "\n",
    "def rotate_axis(axis:np.ndarray, Mrot:np.ndarray):\n",
    "    return Mrot @ axis\n",
    "\n",
    "def get_cube_ksys(image1:dict, image2:dict):\n",
    "    cube_ksys = {}\n",
    "    if image1[\"axis\"][0] == \"-\":\n",
    "        cube_ksys[image1[\"axis\"][1]] = -image1[\"orientation\"].astype(int)\n",
    "        val1 = -image1[\"orientation\"]\n",
    "        ax_1 = image1[\"axis\"][1]\n",
    "    else:\n",
    "        cube_ksys[image1[\"axis\"]] = +image1[\"orientation\"].astype(int) \n",
    "        val1 = +image1[\"orientation\"]   \n",
    "        ax_1 = image1[\"axis\"]\n",
    "    \n",
    "    if image2[\"axis\"][0] == \"-\":\n",
    "        cube_ksys[image2[\"axis\"][1]] = -image2[\"orientation\"].astype(int)\n",
    "        val2 = -image2[\"orientation\"]\n",
    "        ax_2 = image2[\"axis\"][1]\n",
    "    else:\n",
    "        cube_ksys[image2[\"axis\"]] = +image2[\"orientation\"].astype(int)\n",
    "        val2 = +image2[\"orientation\"]\n",
    "        ax_2 = image2[\"axis\"]\n",
    "\n",
    "    # letzte Achse über Kreuzprodukt berechnen - Reihenfolge bestimmt über Vorzeichen\n",
    "    if (ax_1 == \"x\" and ax_2 == \"y\") or (ax_1 == \"y\" and ax_2 == \"z\") or (ax_1 == \"z\" and ax_2 == \"x\"):\n",
    "        val3 = np.cross(val1,val2) \n",
    "    elif (ax_1 == \"x\" and ax_2 == \"z\") or (ax_1 == \"y\" and ax_2 == \"x\") or (ax_1 == \"z\" and ax_2 == \"y\"):\n",
    "        val3 = np.cross(val2,val1)\n",
    "\n",
    "    \n",
    "\n",
    "    if cube_ksys.get(\"x\") is None:\n",
    "        cube_ksys[\"x\"] = val3.astype(int)\n",
    "    elif cube_ksys.get(\"y\") is None:\n",
    "        cube_ksys[\"y\"] = val3.astype(int)\n",
    "    elif cube_ksys.get(\"z\") is None:\n",
    "        cube_ksys[\"z\"] = val3.astype(int)\n",
    "\n",
    "    return cube_ksys\n"
   ]
  },
  {
   "cell_type": "markdown",
   "id": "b50e2bdc",
   "metadata": {},
   "source": [
    "### Für Szenario 1 ausführen"
   ]
  },
  {
   "cell_type": "code",
   "execution_count": 8,
   "id": "fdaba10a",
   "metadata": {},
   "outputs": [
    {
     "name": "stdout",
     "output_type": "stream",
     "text": [
      "z :  [0 0 1]\n",
      "90 ° Rotation um  x\n",
      "z :  [ 0 -1  0]\n",
      "-x :  [0 0 1]\n",
      "\n",
      "Calculated Cube ksys rotation matrix\n",
      "z :  [ 0 -1  0]\n",
      "x :  [ 0  0 -1]\n",
      "y :  [1 0 0]\n"
     ]
    }
   ],
   "source": [
    "# 1. Bild erkannte Achse mappen\n",
    "image1[\"axis\"] = FACE_AXIS.get(image1[\"parentcolor\"])   # Achse holen (x, y oder z)\n",
    "image1[\"orientation\"] = GLOBAL_KSYS.get(\"z\")            # Aktuelle Ausrichtung beschreiben (wenn erkannt, dann immer z)\n",
    "print(image1[\"axis\"], \": \", image1[\"orientation\"].astype(int))\n",
    "\n",
    "print(rotation1[\"steps\"]*90, \"° Rotation um \", rotation1[\"axis\"])\n",
    "\n",
    "# 1. Rotation anwenden\n",
    "Mrot = get_rotation_matrix(rotation1[\"axis\"], rotation1[\"steps\"])\n",
    "image1[\"orientation\"] = rotate_axis(image1[\"orientation\"], Mrot)\n",
    "\n",
    "print(image1[\"axis\"], \": \", image1[\"orientation\"].astype(int))\n",
    "\n",
    "# 2. Bild auswerten\n",
    "image2[\"axis\"] = FACE_AXIS.get(image2[\"parentcolor\"])   # Achse holen (x, y oder z)\n",
    "image2[\"orientation\"] = GLOBAL_KSYS.get(\"z\")            # Aktuelle Ausrichtung beschreiben (wenn erkannt, dann immer z)\n",
    "print(image2[\"axis\"], \": \", image2[\"orientation\"].astype(int))\n",
    "\n",
    "cube_ksys = get_cube_ksys(image1, image2)\n",
    "\n",
    "print(\"\\nCalculated Cube ksys rotation matrix\")\n",
    "for key in cube_ksys:\n",
    "    print(key, \": \", cube_ksys[key].astype(int))"
   ]
  },
  {
   "cell_type": "markdown",
   "id": "b985b41d",
   "metadata": {},
   "source": [
    "### Für Szenario 2 Ausführen"
   ]
  },
  {
   "cell_type": "code",
   "execution_count": 9,
   "id": "8674a6dc",
   "metadata": {},
   "outputs": [
    {
     "name": "stdout",
     "output_type": "stream",
     "text": [
      "-y :  [0 0 1]\n",
      "90 ° Rotation um  x\n",
      "-y :  [ 0 -1  0]\n",
      "x :  [0 0 1]\n",
      "\n",
      "Calculated Cube ksys rotation matrix\n",
      "y :  [0 1 0]\n",
      "x :  [0 0 1]\n",
      "z :  [-1  0  0]\n"
     ]
    }
   ],
   "source": [
    "# 1. Bild erkannte Achse mappen\n",
    "image1_2[\"axis\"] = FACE_AXIS.get(image1_2[\"parentcolor\"])   # Achse holen (x, y oder z)\n",
    "image1_2[\"orientation\"] = GLOBAL_KSYS.get(\"z\")            # Aktuelle Ausrichtung beschreiben (wenn erkannt, dann immer z)\n",
    "print(image1_2[\"axis\"], \": \", image1_2[\"orientation\"].astype(int))\n",
    "\n",
    "print(rotation1_2[\"steps\"]*90, \"° Rotation um \", rotation1_2[\"axis\"])\n",
    "\n",
    "# 1. Rotation anwenden\n",
    "Mrot = get_rotation_matrix(rotation1_2[\"axis\"], rotation1_2[\"steps\"])\n",
    "image1_2[\"orientation\"] = rotate_axis(image1_2[\"orientation\"], Mrot)\n",
    "\n",
    "print(image1_2[\"axis\"], \": \", image1_2[\"orientation\"].astype(int))\n",
    "\n",
    "# 2. Bild auswerten\n",
    "image2_2[\"axis\"] = FACE_AXIS.get(image2_2[\"parentcolor\"])   # Achse holen (x, y oder z)\n",
    "image2_2[\"orientation\"] = GLOBAL_KSYS.get(\"z\")            # Aktuelle Ausrichtung beschreiben (wenn erkannt, dann immer z)\n",
    "print(image2_2[\"axis\"], \": \", image2_2[\"orientation\"].astype(int))\n",
    "\n",
    "cube_ksys = get_cube_ksys(image1_2, image2_2)\n",
    "\n",
    "print(\"\\nCalculated Cube ksys rotation matrix\")\n",
    "for key in cube_ksys:\n",
    "    print(key, \": \", cube_ksys[key].astype(int))"
   ]
  },
  {
   "cell_type": "markdown",
   "id": "f6fb38eb",
   "metadata": {},
   "source": [
    "## Flächen umwandeln"
   ]
  },
  {
   "cell_type": "markdown",
   "id": "36f30551",
   "metadata": {},
   "source": [
    "- Wenn weiß oben:   Betrachtung der x-y-Ebene → 1: (x=1,y=1), 2: (x=1,y=2), 3: (x=1,y=2), 4: (x=2,y=1), ...\n",
    "- Wenn grün oben:   Betrachtung der z-y-Ebene → 1: (y=1,z=3), 2: (y=2,z=3), 3: (y=3,z=3), 4: (y=1,z=2), ...\n",
    "- Wenn orange oben: Betrachtung der z-x-Ebene → 1: (x=1,z=3), 2: (x=2,z=3), 3: (x=3,z=3), 4: (x=1,z=2), ...\n",
    "- Wenn rot oben:    Betrachtung der z-x-Ebene → 1: (x=3,z=3), 2: (x=2,z=3), 3: (x=1,z=3), 4: (x=3,z=2), ...\n",
    "- Wenn blau oben:   Betrachtung der z-y-Ebene → 1: (y=3,z=3), 2: (y=2,z=3), 3: (y=1,z=3), 4: (y=3,z=2), ...\n",
    "- Wenn gelb oben:   Betrachtung der x-y-Ebene → 1: (x=3,y=1), 2: (x=3,y=2), 3: (x=3,y=3), 4: (x=2,y=1), ...\n",
    "\n",
    "Ziel muss es sein, die Reihenfolge der erhaltenen Farben auf die korrekte Reihenfolge zu mappen"
   ]
  },
  {
   "cell_type": "code",
   "execution_count": 10,
   "id": "ceccbf96",
   "metadata": {},
   "outputs": [
    {
     "name": "stdout",
     "output_type": "stream",
     "text": [
      "Aktuelle Flächennormale:  x\n",
      "Rotation des Würfels um globales KSYS: \n",
      "\tx =  [0 0 1] \n",
      "\ty =  [0 1 0] \n",
      "\tz =  [-1  0  0]\n"
     ]
    }
   ],
   "source": [
    "print(\"Aktuelle Flächennormale: \", image2_2[\"axis\"])\n",
    "print(\n",
    "    \"Rotation des Würfels um globales KSYS:\",\n",
    "    \"\\n\\tx = \", cube_ksys[\"x\"].astype(int),\n",
    "    \"\\n\\ty = \", cube_ksys[\"y\"].astype(int),\n",
    "    \"\\n\\tz = \", cube_ksys[\"z\"].astype(int)\n",
    ")"
   ]
  },
  {
   "cell_type": "markdown",
   "id": "25b00ac4",
   "metadata": {},
   "source": [
    "An diesem Beispiel sieht man:\n",
    "- x zeigt nach oben, d.h. es wird die y-z-Achse betrachtet.\n",
    "- z zeigt in diesem Beispiel nach -x, was hier korrekt ist\n",
    "- Es muss nichts gemapped werden\n",
    "\n",
    "Als nächstes kann die zuerst betrachtete Fläche gemapped werden\n",
    "- zuerst muss die Rotation wieder rückgängig gemacht werden"
   ]
  },
  {
   "cell_type": "code",
   "execution_count": 11,
   "id": "11e8a8b3",
   "metadata": {},
   "outputs": [
    {
     "name": "stdout",
     "output_type": "stream",
     "text": [
      "Aktuelle Flächennormale:  -y\n",
      "Rotation des Würfels um globales KSYS (eigener Ansatz): \n",
      "\tx =  [0 1 0] \n",
      "\ty =  [ 0  0 -1] \n",
      "\tz =  [-1  0  0]\n"
     ]
    }
   ],
   "source": [
    "backwards_rotation1 = {\n",
    "    \"axis\": rotation1[\"axis\"],\n",
    "    \"steps\": -rotation1[\"steps\"]\n",
    "}\n",
    "Mrot = get_rotation_matrix(backwards_rotation1[\"axis\"], backwards_rotation1[\"steps\"])\n",
    "\n",
    "previous_cube_x = rotate_axis(cube_ksys[\"x\"], Mrot).astype(int)\n",
    "previous_cube_y = rotate_axis(cube_ksys[\"y\"], Mrot).astype(int)\n",
    "previous_cube_z = rotate_axis(cube_ksys[\"z\"], Mrot).astype(int)\n",
    "\n",
    "print(\"Aktuelle Flächennormale: \", image1_2[\"axis\"])\n",
    "print(\n",
    "    \"Rotation des Würfels um globales KSYS (eigener Ansatz):\",\n",
    "    \"\\n\\tx = \", previous_cube_x,\n",
    "    \"\\n\\ty = \", previous_cube_y,\n",
    "    \"\\n\\tz = \", previous_cube_z\n",
    ")"
   ]
  },
  {
   "cell_type": "code",
   "execution_count": 12,
   "id": "be51873f",
   "metadata": {},
   "outputs": [],
   "source": [
    "def rotate_cube_ksys(cube_ksys:dict, rotation: dict):\n",
    "    x = cube_ksys[\"x\"]\n",
    "    y = cube_ksys[\"y\"]\n",
    "    z = cube_ksys[\"z\"]\n",
    "    \n",
    "    M_rot = get_rotation_matrix(rotation[\"axis\"], rotation[\"steps\"])\n",
    "\n",
    "    x_new = rotate_axis(x, M_rot).astype(int)\n",
    "    y_new = rotate_axis(y, M_rot).astype(int)\n",
    "    z_new = rotate_axis(z, M_rot).astype(int)\n",
    "\n",
    "    cube_ksys_new = {\n",
    "        \"x\": x_new,\n",
    "        \"y\": y_new,\n",
    "        \"z\": z_new\n",
    "    }\n",
    "\n",
    "    return cube_ksys_new"
   ]
  },
  {
   "cell_type": "markdown",
   "id": "5c1565fd",
   "metadata": {},
   "source": [
    "Das heißt, um die Matrix zu korrigieren, muss um 90° um die globale z-Achse gedreht werden"
   ]
  },
  {
   "cell_type": "code",
   "execution_count": 13,
   "id": "d7eddcf2",
   "metadata": {},
   "outputs": [],
   "source": [
    "def get_corrected_color_matrix(cube_ksys:dict, image:dict):\n",
    "\n",
    "    color_string = image[\"matrix\"]\n",
    "    color_matrix = np.array(list(color_string)).reshape((3, 3))\n",
    "\n",
    "    print(\"Image axis: \", image[\"axis\"])\n",
    "\n",
    "    if image[\"axis\"] == \"x\" or image[\"axis\"] == \"-x\":\n",
    "        # so weit drehen, dass z = [-1,0,0]\n",
    "        z = cube_ksys[\"z\"]\n",
    "        if (z == [-1,0,0]).all():\n",
    "            print(\"Keine Rotation nötig\")\n",
    "            corrected_matrix = color_matrix\n",
    "        elif (z == [0,1,0]).all():\n",
    "            # eine Drehung um 90° nach links nötig\n",
    "            corrected_matrix = np.rot90(color_matrix, k=1)\n",
    "        elif (z == [1,0,0]).all():\n",
    "            # zwei Drehungen um 90° nach links nötig\n",
    "            corrected_matrix = np.rot90(color_matrix, k=2)\n",
    "        elif (z == [0,-1,0]).all():\n",
    "            # drei Drehungen um 90° nach links nötig\n",
    "            corrected_matrix = np.rot90(color_matrix, k=3)\n",
    "\n",
    "\n",
    "    elif image[\"axis\"] == \"y\" or image[\"axis\"] == \"-y\":\n",
    "        # so weit drehen, dass z = [-1,0,0]\n",
    "        z = cube_ksys[\"z\"]\n",
    "        if (z == [-1,0,0]).all():\n",
    "            # passt schon, keine Drehung nötig\n",
    "            print(\"Keine Rotation nötig\")\n",
    "            corrected_matrix = color_matrix\n",
    "        elif (z == [0,1,0]).all():\n",
    "            # eine Drehung um 90° nach links nötig\n",
    "            corrected_matrix = np.rot90(color_matrix, k=1)\n",
    "        elif (z == [1,0,0]).all():\n",
    "            # zwei Drehungen um 90° nach links nötig\n",
    "            corrected_matrix = np.rot90(color_matrix, k=2)\n",
    "        elif (z == [0,-1,0]).all():\n",
    "            # eine Drehung um 90° nach rechts nötig\n",
    "            corrected_matrix = np.rot90(color_matrix, k=3)\n",
    "\n",
    "\n",
    "    elif image[\"axis\"] == \"z\" or image[\"axis\"] == \"-z\":\n",
    "        # so weit drehen, dass y = [0,1,0]\n",
    "        y = cube_ksys[\"y\"]\n",
    "        if (y == [0,1,0]).all():\n",
    "            # passt schon\n",
    "            print(\"Keine Rotation nötig\")\n",
    "            corrected_matrix = color_matrix\n",
    "        elif (y == [-1,0,0]).all():\n",
    "            # eine Drehung um 90° nach rechts nötig\n",
    "            corrected_matrix = np.rot90(color_matrix, k=3)\n",
    "        elif (y == [1,0,0]).all():\n",
    "            # eine Drehung um 90° nach links nötig\n",
    "            corrected_matrix = np.rot90(color_matrix, k=1)\n",
    "        elif (y == [0,-1,0]).all():\n",
    "            # zwei Drehungen um 90° nach links nötig\n",
    "            corrected_matrix = np.rot90(color_matrix, k=2)\n",
    "\n",
    "    corrected_color_string = ''.join(corrected_matrix.flatten())\n",
    "    return corrected_color_string"
   ]
  },
  {
   "cell_type": "markdown",
   "id": "42e8e90d",
   "metadata": {},
   "source": [
    "## Finaler Test!\n",
    "### Jetzt ein vollständiges Szenario aufzeichnen..."
   ]
  },
  {
   "cell_type": "code",
   "execution_count": 14,
   "id": "6ac2f56d",
   "metadata": {},
   "outputs": [],
   "source": [
    "image1 = {\n",
    "    \"parentcolor\": \"W\",\n",
    "    \"matrix\": \"RROWWBROO\"\n",
    "}\n",
    "\n",
    "rotation1 = {\n",
    "    \"axis\": \"x\",\n",
    "    \"steps\": 1\n",
    "}\n",
    "\n",
    "image2 = {\n",
    "    \"parentcolor\": \"O\",\n",
    "    \"matrix\": \"BYWWOOGGR\"\n",
    "}\n",
    "\n",
    "rotation2 = {\n",
    "    \"axis\": \"y\",\n",
    "    \"steps\": 2\n",
    "}\n",
    "\n",
    "image3 = {\n",
    "    \"parentcolor\": \"R\",\n",
    "    \"matrix\": \"YRBORBWWY\"    \n",
    "}\n",
    "\n",
    "rotation3 = {\n",
    "    \"axis\": \"x\",\n",
    "    \"steps\": 1\n",
    "}\n",
    "\n",
    "image4 = {\n",
    "    \"parentcolor\": \"Y\",\n",
    "    \"matrix\": \"OBGOYYGRO\"    \n",
    "}\n",
    "\n",
    "rotation4 = {\n",
    "    \"axis\": \"y\",\n",
    "    \"steps\": 1\n",
    "}\n",
    "\n",
    "image5 = {\n",
    "    \"parentcolor\": \"B\",\n",
    "    \"matrix\": \"BGYYBWWYW\"    \n",
    "}\n",
    "\n",
    "rotation5 = {\n",
    "    \"axis\": \"y\",\n",
    "    \"steps\": 2\n",
    "}\n",
    "\n",
    "image6 = {\n",
    "    \"parentcolor\": \"G\",\n",
    "    \"matrix\": \"RGGRGGBBY\"    \n",
    "}"
   ]
  },
  {
   "cell_type": "markdown",
   "id": "141a9d80",
   "metadata": {},
   "source": [
    "Jetzt Schritt für Schritt durchgehen...\n",
    "### Schritt 1: Bild 1 auswerten"
   ]
  },
  {
   "cell_type": "code",
   "execution_count": 15,
   "id": "cc7bb038",
   "metadata": {},
   "outputs": [
    {
     "name": "stdout",
     "output_type": "stream",
     "text": [
      "z :  [0 0 1]\n"
     ]
    }
   ],
   "source": [
    "image1[\"axis\"] = FACE_AXIS.get(image1[\"parentcolor\"])\n",
    "image1[\"orientation\"] = GLOBAL_KSYS.get(\"z\")\n",
    "print(image1[\"axis\"], \": \", image1[\"orientation\"].astype(int))"
   ]
  },
  {
   "cell_type": "markdown",
   "id": "24e73332",
   "metadata": {},
   "source": [
    "### Schritt 2: Rotation anwenden"
   ]
  },
  {
   "cell_type": "code",
   "execution_count": 16,
   "id": "ea7d7696",
   "metadata": {},
   "outputs": [
    {
     "name": "stdout",
     "output_type": "stream",
     "text": [
      "z :  [ 0 -1  0]\n"
     ]
    }
   ],
   "source": [
    "M_rot_1 = get_rotation_matrix(rotation1[\"axis\"], rotation1[\"steps\"])\n",
    "image1[\"orientation\"] = rotate_axis(image1[\"orientation\"], M_rot_1)\n",
    "print(image1[\"axis\"], \": \", image1[\"orientation\"].astype(int))"
   ]
  },
  {
   "cell_type": "markdown",
   "id": "3c9d5b31",
   "metadata": {},
   "source": [
    "### Schritt 3: Bild 2 auswerten"
   ]
  },
  {
   "cell_type": "code",
   "execution_count": 17,
   "id": "3dc54991",
   "metadata": {},
   "outputs": [
    {
     "name": "stdout",
     "output_type": "stream",
     "text": [
      "-y :  [0 0 1]\n"
     ]
    }
   ],
   "source": [
    "image2[\"axis\"] = FACE_AXIS.get(image2[\"parentcolor\"])   # Achse holen (x, y oder z)\n",
    "image2[\"orientation\"] = GLOBAL_KSYS.get(\"z\")            # Aktuelle Ausrichtung beschreiben (wenn erkannt, dann immer z)\n",
    "print(image2[\"axis\"], \": \", image2[\"orientation\"].astype(int))"
   ]
  },
  {
   "cell_type": "markdown",
   "id": "42baef4c",
   "metadata": {},
   "source": [
    "### Schritt 4: Koordinatensystem des Würfels ermitteln"
   ]
  },
  {
   "cell_type": "code",
   "execution_count": 18,
   "id": "8eb66372",
   "metadata": {},
   "outputs": [
    {
     "name": "stdout",
     "output_type": "stream",
     "text": [
      "\n",
      "Calculated Cube ksys rotation matrix\n",
      "z :  [ 0 -1  0]\n",
      "y :  [ 0  0 -1]\n",
      "x :  [-1  0  0]\n"
     ]
    }
   ],
   "source": [
    "cube_ksys = get_cube_ksys(image1, image2)\n",
    "print(\"\\nCalculated Cube ksys rotation matrix\")\n",
    "for key in cube_ksys:\n",
    "    print(key, \": \", cube_ksys[key].astype(int))"
   ]
  },
  {
   "cell_type": "markdown",
   "id": "d0fc204e",
   "metadata": {},
   "source": [
    "### Schritt 5: Farbmatrix aus Bild 1 korriegieren"
   ]
  },
  {
   "cell_type": "markdown",
   "id": "992f8ec9",
   "metadata": {},
   "source": [
    "1. Würfel zurück rotieren"
   ]
  },
  {
   "cell_type": "code",
   "execution_count": 19,
   "id": "bb7a63ee",
   "metadata": {},
   "outputs": [
    {
     "name": "stdout",
     "output_type": "stream",
     "text": [
      "Aktuelle Flächennormale:  z\n",
      "Rotation des Würfels um globales KSYS: \n",
      "\tx =  [-1  0  0] \n",
      "\ty =  [ 0 -1  0] \n",
      "\tz =  [0 0 1]\n"
     ]
    }
   ],
   "source": [
    "backwards_rotation1 = {\n",
    "    \"axis\": rotation1[\"axis\"],\n",
    "    \"steps\": -rotation1[\"steps\"]\n",
    "}\n",
    "M_rot_1_inverted = get_rotation_matrix(backwards_rotation1[\"axis\"], backwards_rotation1[\"steps\"])\n",
    "\n",
    "previous_cube_x = rotate_axis(cube_ksys[\"x\"], M_rot_1_inverted).astype(int)\n",
    "previous_cube_y = rotate_axis(cube_ksys[\"y\"], M_rot_1_inverted).astype(int)\n",
    "previous_cube_z = rotate_axis(cube_ksys[\"z\"], M_rot_1_inverted).astype(int)\n",
    "\n",
    "print(\"Aktuelle Flächennormale: \", image1[\"axis\"])\n",
    "print(\n",
    "    \"Rotation des Würfels um globales KSYS:\",\n",
    "    \"\\n\\tx = \", previous_cube_x,\n",
    "    \"\\n\\ty = \", previous_cube_y,\n",
    "    \"\\n\\tz = \", previous_cube_z\n",
    ")\n",
    "\n",
    "previous_cube_ksys = {\n",
    "    \"x\": previous_cube_x,\n",
    "    \"y\": previous_cube_y,\n",
    "    \"z\": previous_cube_z\n",
    "}"
   ]
  },
  {
   "cell_type": "markdown",
   "id": "1c22c41d",
   "metadata": {},
   "source": [
    "2. Farbmatrix korriegieren"
   ]
  },
  {
   "cell_type": "code",
   "execution_count": 20,
   "id": "c826ba51",
   "metadata": {},
   "outputs": [
    {
     "name": "stdout",
     "output_type": "stream",
     "text": [
      "Image axis:  z\n",
      "Color matrix for  W -layer:  OORBWWORR\n"
     ]
    }
   ],
   "source": [
    "corrected_color_matrix_1 = get_corrected_color_matrix(previous_cube_ksys, image1)\n",
    "image1[\"matrix\"] = corrected_color_matrix_1\n",
    "print(\"Color matrix for \", image1[\"parentcolor\"], \"-layer: \", image1[\"matrix\"])"
   ]
  },
  {
   "cell_type": "markdown",
   "id": "98dfe8f7",
   "metadata": {},
   "source": [
    "### Schritt 6: Farbmatrix für Bild 2 korrigieren"
   ]
  },
  {
   "cell_type": "code",
   "execution_count": 21,
   "id": "3d1052e5",
   "metadata": {},
   "outputs": [
    {
     "name": "stdout",
     "output_type": "stream",
     "text": [
      "Image axis:  -y\n",
      "Color matrix for  O -layer:  GWBGOYROW\n"
     ]
    }
   ],
   "source": [
    "corrected_color_matrix_2 = get_corrected_color_matrix(cube_ksys, image2)\n",
    "image2[\"matrix\"] = corrected_color_matrix_2\n",
    "print(\"Color matrix for \", image2[\"parentcolor\"], \"-layer: \", image2[\"matrix\"])"
   ]
  },
  {
   "cell_type": "markdown",
   "id": "eb49d300",
   "metadata": {},
   "source": [
    "### Schritt 7: nächste Rotation anwenden"
   ]
  },
  {
   "cell_type": "code",
   "execution_count": 22,
   "id": "abe327ee",
   "metadata": {},
   "outputs": [
    {
     "name": "stdout",
     "output_type": "stream",
     "text": [
      "Rotation des Würfels um globales KSYS: \n",
      "\tx =  [1 0 0] \n",
      "\ty =  [0 0 1] \n",
      "\tz =  [ 0 -1  0]\n"
     ]
    }
   ],
   "source": [
    "cube_ksys = rotate_cube_ksys(cube_ksys, rotation2)\n",
    "print(\n",
    "    \"Rotation des Würfels um globales KSYS:\",\n",
    "    \"\\n\\tx = \", cube_ksys[\"x\"],\n",
    "    \"\\n\\ty = \", cube_ksys[\"y\"],\n",
    "    \"\\n\\tz = \", cube_ksys[\"z\"]\n",
    ")"
   ]
  },
  {
   "cell_type": "markdown",
   "id": "679625a8",
   "metadata": {},
   "source": [
    "### Schritt 8: nächstes Bild auswerten"
   ]
  },
  {
   "cell_type": "code",
   "execution_count": 23,
   "id": "8c7e01df",
   "metadata": {},
   "outputs": [
    {
     "name": "stdout",
     "output_type": "stream",
     "text": [
      "Image axis:  y\n",
      "Color matrix for  R -layer:  WOYWRRYBB\n"
     ]
    }
   ],
   "source": [
    "image3[\"axis\"] = FACE_AXIS.get(image3[\"parentcolor\"])\n",
    "corrected_color_matrix_3 = get_corrected_color_matrix(cube_ksys, image3)\n",
    "image3[\"matrix\"] = corrected_color_matrix_3\n",
    "print(\"Color matrix for \", image3[\"parentcolor\"], \"-layer: \", image3[\"matrix\"])"
   ]
  },
  {
   "cell_type": "markdown",
   "id": "8d136f36",
   "metadata": {},
   "source": [
    "### Schritte 7 & 8 wiederholen"
   ]
  },
  {
   "cell_type": "code",
   "execution_count": 24,
   "id": "9524ff90",
   "metadata": {},
   "outputs": [
    {
     "name": "stdout",
     "output_type": "stream",
     "text": [
      "Rotation des Würfels um globales KSYS (eigener Ansatz): \n",
      "\tx =  [1 0 0] \n",
      "\ty =  [ 0 -1  0] \n",
      "\tz =  [ 0  0 -1]\n",
      "Image axis:  -z\n",
      "Color matrix for  Y -layer:  ORGYYOGBO\n"
     ]
    }
   ],
   "source": [
    "cube_ksys = rotate_cube_ksys(cube_ksys, rotation3)\n",
    "print(\n",
    "    \"Rotation des Würfels um globales KSYS (eigener Ansatz):\",\n",
    "    \"\\n\\tx = \", cube_ksys[\"x\"],\n",
    "    \"\\n\\ty = \", cube_ksys[\"y\"],\n",
    "    \"\\n\\tz = \", cube_ksys[\"z\"]\n",
    ")\n",
    "\n",
    "image4[\"axis\"] = FACE_AXIS.get(image4[\"parentcolor\"])\n",
    "corrected_color_matrix_4 = get_corrected_color_matrix(cube_ksys, image4)\n",
    "image4[\"matrix\"] = corrected_color_matrix_4\n",
    "print(\"Color matrix for \", image4[\"parentcolor\"], \"-layer: \", image4[\"matrix\"])"
   ]
  },
  {
   "cell_type": "code",
   "execution_count": 25,
   "id": "4edea93e",
   "metadata": {},
   "outputs": [
    {
     "name": "stdout",
     "output_type": "stream",
     "text": [
      "Rotation des Würfels um globales KSYS (eigener Ansatz): \n",
      "\tx =  [ 0  0 -1] \n",
      "\ty =  [ 0 -1  0] \n",
      "\tz =  [-1  0  0]\n",
      "Image axis:  -x\n",
      "Keine Rotation nötig\n",
      "Color matrix for  B -layer:  BGYYBWWYW\n"
     ]
    }
   ],
   "source": [
    "cube_ksys = rotate_cube_ksys(cube_ksys, rotation4)\n",
    "print(\n",
    "    \"Rotation des Würfels um globales KSYS (eigener Ansatz):\",\n",
    "    \"\\n\\tx = \", cube_ksys[\"x\"],\n",
    "    \"\\n\\ty = \", cube_ksys[\"y\"],\n",
    "    \"\\n\\tz = \", cube_ksys[\"z\"]\n",
    ")\n",
    "\n",
    "image5[\"axis\"] = FACE_AXIS.get(image5[\"parentcolor\"])\n",
    "corrected_color_matrix_5 = get_corrected_color_matrix(cube_ksys, image5)\n",
    "image5[\"matrix\"] = corrected_color_matrix_5\n",
    "print(\"Color matrix for \", image5[\"parentcolor\"], \"-layer: \", image5[\"matrix\"])"
   ]
  },
  {
   "cell_type": "code",
   "execution_count": 26,
   "id": "c80f274d",
   "metadata": {},
   "outputs": [
    {
     "name": "stdout",
     "output_type": "stream",
     "text": [
      "Rotation des Würfels um globales KSYS (eigener Ansatz): \n",
      "\tx =  [0 0 1] \n",
      "\ty =  [ 0 -1  0] \n",
      "\tz =  [1 0 0]\n",
      "Image axis:  x\n",
      "Color matrix for  G -layer:  YBBGGRGGR\n"
     ]
    }
   ],
   "source": [
    "cube_ksys = rotate_cube_ksys(cube_ksys, rotation5)\n",
    "print(\n",
    "    \"Rotation des Würfels um globales KSYS (eigener Ansatz):\",\n",
    "    \"\\n\\tx = \", cube_ksys[\"x\"],\n",
    "    \"\\n\\ty = \", cube_ksys[\"y\"],\n",
    "    \"\\n\\tz = \", cube_ksys[\"z\"]\n",
    ")\n",
    "\n",
    "image6[\"axis\"] = FACE_AXIS.get(image6[\"parentcolor\"])\n",
    "corrected_color_matrix_6 = get_corrected_color_matrix(cube_ksys, image6)\n",
    "image6[\"matrix\"] = corrected_color_matrix_6\n",
    "print(\"Color matrix for \", image6[\"parentcolor\"], \"-layer: \", image6[\"matrix\"])"
   ]
  },
  {
   "cell_type": "markdown",
   "id": "8965099c",
   "metadata": {},
   "source": [
    "### Finale Überprüfung"
   ]
  },
  {
   "cell_type": "code",
   "execution_count": 27,
   "id": "4e9b568e",
   "metadata": {},
   "outputs": [
    {
     "name": "stdout",
     "output_type": "stream",
     "text": [
      "Musterlösung:  OORBWWORR GWBGOYROW YBBGGRGGR WOYWRRYBB BGYYBWWYW ORGYYOGBO\n",
      "Fläche 1: \t W   OORBWWORR\n",
      "Fläche 2: \t O   GWBGOYROW\n",
      "Fläche 3: \t R   WOYWRRYBB\n",
      "Fläche 4: \t Y   ORGYYOGBO\n",
      "Fläche 5: \t B   BGYYBWWYW\n",
      "Fläche 6: \t G   YBBGGRGGR\n"
     ]
    }
   ],
   "source": [
    "print(\"Musterlösung: \", \n",
    "    solution[0:9], \n",
    "    solution[9:18], \n",
    "    solution[18:27], \n",
    "    solution[27:36], \n",
    "    solution[36:45], \n",
    "    solution[45:54]\n",
    ")\n",
    "print(\"Fläche 1: \\t\", image1[\"parentcolor\"], \" \", image1[\"matrix\"])\n",
    "print(\"Fläche 2: \\t\", image2[\"parentcolor\"], \" \", image2[\"matrix\"])\n",
    "print(\"Fläche 3: \\t\", image3[\"parentcolor\"], \" \", image3[\"matrix\"])\n",
    "print(\"Fläche 4: \\t\", image4[\"parentcolor\"], \" \", image4[\"matrix\"])\n",
    "print(\"Fläche 5: \\t\", image5[\"parentcolor\"], \" \", image5[\"matrix\"])\n",
    "print(\"Fläche 6: \\t\", image6[\"parentcolor\"], \" \", image6[\"matrix\"])"
   ]
  },
  {
   "cell_type": "code",
   "execution_count": null,
   "id": "2c1a9307",
   "metadata": {},
   "outputs": [],
   "source": []
  }
 ],
 "metadata": {
  "kernelspec": {
   "display_name": ".venv",
   "language": "python",
   "name": "python3"
  },
  "language_info": {
   "codemirror_mode": {
    "name": "ipython",
    "version": 3
   },
   "file_extension": ".py",
   "mimetype": "text/x-python",
   "name": "python",
   "nbconvert_exporter": "python",
   "pygments_lexer": "ipython3",
   "version": "3.10.10"
  }
 },
 "nbformat": 4,
 "nbformat_minor": 5
}
